{
 "cells": [
  {
   "cell_type": "code",
   "execution_count": null,
   "metadata": {},
   "outputs": [],
   "source": [
    "import numpy as np\n",
    "from sklearn import svm\n",
    "from sklearn.covariance import EllipticEnvelope\n",
    "from sklearn.ensemble import IsolationForest\n",
    "from sklearn.neighbors import LocalOutlierFactor\n",
    "import glob\n",
    "from sklearn.preprocessing import OneHotEncoder\n",
    "from sklearn.preprocessing import LabelEncoder\n",
    "from sklearn.model_selection import train_test_split\n",
    "from sklearn.metrics import accuracy_score\n",
    "from sklearn.preprocessing import MinMaxScaler\n",
    "import pandas as pd\n",
    "from sklearn.metrics import average_precision_score\n",
    "from sklearn.metrics import precision_recall_curve\n",
    "from sklearn.feature_selection import chi2"
   ]
  },
  {
   "cell_type": "code",
   "execution_count": 2,
   "metadata": {},
   "outputs": [],
   "source": [
    "df = pd.read_csv(\"../finallabelleddata_new.csv\",sep=\",\")"
   ]
  },
  {
   "cell_type": "code",
   "execution_count": 3,
   "metadata": {},
   "outputs": [
    {
     "data": {
      "text/plain": [
       "Index(['SrcIP DstIP SrcPort DstPort Protocol Duration StartTime EndTime PktRate TOS MeanLength TotalLength PktCount IPFlags TTL DataOff TCPFlags Window Label'], dtype='object')"
      ]
     },
     "execution_count": 3,
     "metadata": {},
     "output_type": "execute_result"
    }
   ],
   "source": [
    "df.columns"
   ]
  },
  {
   "cell_type": "code",
   "execution_count": 4,
   "metadata": {},
   "outputs": [],
   "source": [
    "def newestparseline(line):\n",
    "    line = line.rstrip().split()\n",
    "    datapoint = []\n",
    "    datapoint.append(line[4]) #proto\n",
    "    datapoint.append(line[2]) #sport\n",
    "    datapoint.append(line[0]) #srcip\n",
    "    datapoint.append(line[3]) #dport\n",
    "    datapoint.append(line[1]) #dstip\n",
    "    datapoint.append(line[9]) #TOS\n",
    "    datapoint.append(line[13]) #IP flags\n",
    "    datapoint.append(line[15]) #TCP Flags\n",
    "    datapoint.append(float(line[8]) if float(line[8]) != float('inf') else 0) #Packet rate\n",
    "    datapoint.append(float(line[10])) #Mean Length\n",
    "    datapoint.append(float(line[5])) #duration\n",
    "    datapoint.append(int(float(line[11]))) #Total Length\n",
    "    datapoint.append(int(line[12])) #Packet count\n",
    "    datapoint.append(int(float(line[14]))) #TTL\n",
    "    if \"background_flow\" in line[-1]:\n",
    "        label = 0\n",
    "    elif \"ddossim\" in line[-1]:\n",
    "        label = 1\n",
    "    elif \"goldeneye\" in line[-1]:\n",
    "        label = 2\n",
    "    elif \"hulk\" in line[-1]:\n",
    "        label = 3\n",
    "    elif \"rudy\" in line[-1]:\n",
    "        label = 4\n",
    "    elif \"slowbody2\" in line[-1]:\n",
    "        label = 5\n",
    "    elif \"slowheaders\" in line[-1]:\n",
    "        label = 6\n",
    "    elif \"slowloris\" in line[-1]:\n",
    "        label = 7\n",
    "    elif \"slowread\" in line[-1]:\n",
    "        label = 8\n",
    "    \n",
    "#     print(datapoint)\n",
    "#     print(label)\n",
    "    return (datapoint, label)\n",
    "    \n",
    "def parseflowdata():\n",
    "    data = []\n",
    "    y = []\n",
    "    with open(\"../finallabelleddata_new.csv\") as dat:\n",
    "        next(dat)\n",
    "        for line in dat:\n",
    "#             if \"hulk\" in line or \"background_flow\" in line:\n",
    "            datapoint, label = newestparseline(line)\n",
    "            data.append(datapoint)\n",
    "            y.append(label)\n",
    "    return (data, np.array(y))"
   ]
  },
  {
   "cell_type": "code",
   "execution_count": 5,
   "metadata": {},
   "outputs": [],
   "source": [
    "X, y = parseflowdata()"
   ]
  },
  {
   "cell_type": "code",
   "execution_count": 6,
   "metadata": {},
   "outputs": [],
   "source": [
    "labelenc = LabelEncoder()\n",
    "proto = labelenc.fit_transform([x[0] for x in X])\n",
    "sport = labelenc.fit_transform([x[1] for x in X])\n",
    "srcip = labelenc.fit_transform([x[2] for x in X])\n",
    "dport = labelenc.fit_transform([x[3] for x in X])\n",
    "dstip = labelenc.fit_transform([x[4] for x in X])\n",
    "tos = labelenc.fit_transform([x[5] for x in X])\n",
    "ipflags = labelenc.fit_transform([x[6] for x in X])\n",
    "tcpflags = labelenc.fit_transform([x[7] for x in X])\n",
    "\n",
    "encodedX = []\n",
    "for i in range(len(X)):\n",
    "    encodedX.append([srcip[i], dstip[i], dport[i], sport[i], \n",
    "                     proto[i], tos[i], ipflags[i], tcpflags[i]] + X[i][8:])\n",
    "    \n",
    "scaler = MinMaxScaler()\n",
    "encodedX = scaler.fit_transform(encodedX)\n",
    "enc = OneHotEncoder(categorical_features=[0,1,2,3,4,5,6,7])\n",
    "encodedX = enc.fit_transform(encodedX)"
   ]
  },
  {
   "cell_type": "code",
   "execution_count": 33,
   "metadata": {},
   "outputs": [
    {
     "data": {
      "text/plain": [
       "array([1.00000000e+00, 0.00000000e+00, 1.00000000e+00, 0.00000000e+00,\n",
       "       1.00000000e+00, 0.00000000e+00, 1.00000000e+00, 0.00000000e+00,\n",
       "       1.00000000e+00, 0.00000000e+00, 1.00000000e+00, 0.00000000e+00,\n",
       "       1.00000000e+00, 0.00000000e+00, 1.00000000e+00, 0.00000000e+00,\n",
       "       4.41940282e-07, 4.49844665e-02, 3.38125915e-03, 3.61301740e-06,\n",
       "       1.11019212e-05, 5.00000000e-01])"
      ]
     },
     "execution_count": 33,
     "metadata": {},
     "output_type": "execute_result"
    }
   ],
   "source": [
    "encodedX.toarray()[0]"
   ]
  },
  {
   "cell_type": "code",
   "execution_count": 7,
   "metadata": {},
   "outputs": [],
   "source": [
    "X_train, X_valid, y_train, y_valid = train_test_split(encodedX, y, test_size=0.20)\n",
    "X_test, X_valid, y_test, y_valid = train_test_split(X_valid, y_valid, test_size=0.50)"
   ]
  },
  {
   "cell_type": "code",
   "execution_count": null,
   "metadata": {},
   "outputs": [],
   "source": [
    "clf = svm.OneClassSVM(nu=0.1, kernel=\"rbf\", gamma=0.1)\n",
    "clf.fit(X_train[y_train == 0])\n",
    "y_predict = clf.predict(X_test)\n",
    "accuracy_score(y_test, y_predict)"
   ]
  },
  {
   "cell_type": "code",
   "execution_count": 8,
   "metadata": {},
   "outputs": [
    {
     "data": {
      "text/plain": [
       "0.9543021282151717"
      ]
     },
     "execution_count": 8,
     "metadata": {},
     "output_type": "execute_result"
    }
   ],
   "source": [
    "clf = svm.SVC(class_weight={0: 1, 1: 10, 2: 15, 3: 10, 4: 8, 5: 10, 6: 7, 7: 12, 8: 8}, gamma=1000)\n",
    "clf.fit(X_train, y_train)\n",
    "y_predict = clf.predict(X_valid)\n",
    "accuracy_score(y_valid, y_predict)"
   ]
  },
  {
   "cell_type": "code",
   "execution_count": 9,
   "metadata": {},
   "outputs": [
    {
     "data": {
      "text/plain": [
       "0.9557369022360046"
      ]
     },
     "execution_count": 9,
     "metadata": {},
     "output_type": "execute_result"
    }
   ],
   "source": [
    "y_predict = clf.predict(X_test)\n",
    "accuracy_score(y_test, y_predict)"
   ]
  },
  {
   "cell_type": "code",
   "execution_count": 57,
   "metadata": {},
   "outputs": [
    {
     "data": {
      "text/plain": [
       "0.8278016035800858"
      ]
     },
     "execution_count": 57,
     "metadata": {},
     "output_type": "execute_result"
    }
   ],
   "source": [
    "rf = IsolationForest(max_samples=1.0, contamination=0.1, n_jobs=4, max_features=1.0, bootstrap=True)\n",
    "rf.fit(X_train)\n",
    "y_predict = rf.predict(X_test)\n",
    "accuracy_score(y_test, y_predict)"
   ]
  },
  {
   "cell_type": "code",
   "execution_count": 20,
   "metadata": {},
   "outputs": [
    {
     "name": "stdout",
     "output_type": "stream",
     "text": [
      "4073.0\n",
      "23685.0\n",
      "0.0\n",
      "0.0\n",
      "DDoSSim precision: 1.0\n",
      "DDoSSim Recall: 1.0\n",
      "DDoSSim Accuracy: 1.0\n"
     ]
    }
   ],
   "source": [
    "tp = [y_test[i] == 1 and y_predict[i] == 1 for i in range(len(y_test))]\n",
    "tp = sum(tp)*1.0\n",
    "fp = [y_test[i] == 0 and y_predict[i] == 1 for i in range(len(y_test))]\n",
    "fp = sum(fp)*1.0\n",
    "fn = [y_test[i] == 1 and y_predict[i] == 0 for i in range(len(y_test))]\n",
    "fn = sum(fn)*1.0\n",
    "tn = [y_test[i] == 0 and y_predict[i] == 0 for i in range(len(y_test))]\n",
    "tn = sum(tn)*1.0\n",
    "#DDosSim\n",
    "print(tp)\n",
    "print(tn)\n",
    "print(fp)\n",
    "print(fn)\n",
    "print(\"DDoSSim precision: {}\".format(tp/(tp+fp)))\n",
    "print(\"DDoSSim Recall: {}\".format(tp/(tp+fn)))\n",
    "print(\"DDoSSim Accuracy: {}\".format((tp+tn)/(tp+tn+fp+fn)))"
   ]
  },
  {
   "cell_type": "code",
   "execution_count": 21,
   "metadata": {},
   "outputs": [
    {
     "name": "stdout",
     "output_type": "stream",
     "text": [
      "91.0\n",
      "23685.0\n",
      "216.0\n",
      "4.0\n",
      "Goldeneye precision: 0.2964169381107492\n",
      "Goldeneye Recall: 0.9578947368421052\n",
      "Goldeneye Accuracy: 0.9908318053008834\n"
     ]
    }
   ],
   "source": [
    "tp = [y_test[i] == 2 and y_predict[i] == 2 for i in range(len(y_test))]\n",
    "tp = sum(tp)*1.0\n",
    "fp = [y_test[i] == 0 and y_predict[i] == 2 for i in range(len(y_test))]\n",
    "fp = sum(fp)*1.0\n",
    "fn = [y_test[i] == 2 and y_predict[i] == 0 for i in range(len(y_test))]\n",
    "fn = sum(fn)*1.0\n",
    "tn = [y_test[i] == 0 and y_predict[i] == 0 for i in range(len(y_test))]\n",
    "tn = sum(tn)*1.0\n",
    "#Goldeneye\n",
    "print(tp)\n",
    "print(tn)\n",
    "print(fp)\n",
    "print(fn)\n",
    "print(\"Goldeneye precision: {}\".format(tp/(tp+fp)))\n",
    "print(\"Goldeneye Recall: {}\".format(tp/(tp+fn)))\n",
    "print(\"Goldeneye Accuracy: {}\".format((tp+tn)/(tp+tn+fp+fn)))"
   ]
  },
  {
   "cell_type": "code",
   "execution_count": 22,
   "metadata": {},
   "outputs": [
    {
     "name": "stdout",
     "output_type": "stream",
     "text": [
      "73.0\n",
      "23685.0\n",
      "72.0\n",
      "11.0\n",
      "Hulk precision: 0.503448275862069\n",
      "Hulk Recall: 0.8690476190476191\n",
      "Hulk Accuracy: 0.9965186024076171\n"
     ]
    }
   ],
   "source": [
    "tp = [y_test[i] == 3 and y_predict[i] == 3 for i in range(len(y_test))]\n",
    "tp = sum(tp)*1.0\n",
    "fp = [y_test[i] == 0 and y_predict[i] == 3 for i in range(len(y_test))]\n",
    "fp = sum(fp)*1.0\n",
    "fn = [y_test[i] == 3 and y_predict[i] == 0 for i in range(len(y_test))]\n",
    "fn = sum(fn)*1.0\n",
    "tn = [y_test[i] == 0 and y_predict[i] == 0 for i in range(len(y_test))]\n",
    "tn = sum(tn)*1.0\n",
    "#Hulk\n",
    "print(tp)\n",
    "print(tn)\n",
    "print(fp)\n",
    "print(fn)\n",
    "print(\"Hulk precision: {}\".format(tp/(tp+fp)))\n",
    "print(\"Hulk Recall: {}\".format(tp/(tp+fn)))\n",
    "print(\"Hulk Accuracy: {}\".format((tp+tn)/(tp+tn+fp+fn)))"
   ]
  },
  {
   "cell_type": "code",
   "execution_count": 23,
   "metadata": {},
   "outputs": [
    {
     "name": "stdout",
     "output_type": "stream",
     "text": [
      "168.0\n",
      "23685.0\n",
      "25.0\n",
      "1.0\n",
      "Rudy precision: 0.8704663212435233\n",
      "Rudy Recall: 0.9940828402366864\n",
      "Rudy Accuracy: 0.9989111771849742\n"
     ]
    }
   ],
   "source": [
    "tp = [y_test[i] == 4 and y_predict[i] == 4 for i in range(len(y_test))]\n",
    "tp = sum(tp)*1.0\n",
    "fp = [y_test[i] == 0 and y_predict[i] == 4 for i in range(len(y_test))]\n",
    "fp = sum(fp)*1.0\n",
    "fn = [y_test[i] == 4 and y_predict[i] == 0 for i in range(len(y_test))]\n",
    "fn = sum(fn)*1.0\n",
    "tn = [y_test[i] == 0 and y_predict[i] == 0 for i in range(len(y_test))]\n",
    "tn = sum(tn)*1.0\n",
    "#Rudy\n",
    "print(tp)\n",
    "print(tn)\n",
    "print(fp)\n",
    "print(fn)\n",
    "print(\"Rudy precision: {}\".format(tp/(tp+fp)))\n",
    "print(\"Rudy Recall: {}\".format(tp/(tp+fn)))\n",
    "print(\"Rudy Accuracy: {}\".format((tp+tn)/(tp+tn+fp+fn)))"
   ]
  },
  {
   "cell_type": "code",
   "execution_count": 24,
   "metadata": {},
   "outputs": [
    {
     "name": "stdout",
     "output_type": "stream",
     "text": [
      "54.0\n",
      "23685.0\n",
      "3.0\n",
      "0.0\n",
      "SlowBody precision: 0.9473684210526315\n",
      "SlowBody Recall: 1.0\n",
      "SlowBody Accuracy: 0.9998736416477129\n"
     ]
    }
   ],
   "source": [
    "tp = [y_test[i] == 5 and y_predict[i] == 5 for i in range(len(y_test))]\n",
    "tp = sum(tp)*1.0\n",
    "fp = [y_test[i] == 0 and y_predict[i] == 5 for i in range(len(y_test))]\n",
    "fp = sum(fp)*1.0\n",
    "fn = [y_test[i] == 5 and y_predict[i] == 0 for i in range(len(y_test))]\n",
    "fn = sum(fn)*1.0\n",
    "tn = [y_test[i] == 0 and y_predict[i] == 0 for i in range(len(y_test))]\n",
    "tn = sum(tn)*1.0\n",
    "#SlowBody\n",
    "print(tp)\n",
    "print(tn)\n",
    "print(fp)\n",
    "print(fn)\n",
    "print(\"SlowBody precision: {}\".format(tp/(tp+fp)))\n",
    "print(\"SlowBody Recall: {}\".format(tp/(tp+fn)))\n",
    "print(\"SlowBody Accuracy: {}\".format((tp+tn)/(tp+tn+fp+fn)))"
   ]
  },
  {
   "cell_type": "code",
   "execution_count": 25,
   "metadata": {},
   "outputs": [
    {
     "name": "stdout",
     "output_type": "stream",
     "text": [
      "579.0\n",
      "23685.0\n",
      "247.0\n",
      "32.0\n",
      "SlowHeaders precision: 0.7009685230024213\n",
      "SlowHeaders Recall: 0.9476268412438625\n",
      "SlowHeaders Accuracy: 0.9886321965529886\n"
     ]
    }
   ],
   "source": [
    "tp = [y_test[i] == 6 and y_predict[i] == 6 for i in range(len(y_test))]\n",
    "tp = sum(tp)*1.0\n",
    "fp = [y_test[i] == 0 and y_predict[i] == 6 for i in range(len(y_test))]\n",
    "fp = sum(fp)*1.0\n",
    "fn = [y_test[i] == 6 and y_predict[i] == 0 for i in range(len(y_test))]\n",
    "fn = sum(fn)*1.0\n",
    "tn = [y_test[i] == 0 and y_predict[i] == 0 for i in range(len(y_test))]\n",
    "tn = sum(tn)*1.0\n",
    "#SlowHeaders\n",
    "print(tp)\n",
    "print(tn)\n",
    "print(fp)\n",
    "print(fn)\n",
    "print(\"SlowHeaders precision: {}\".format(tp/(tp+fp)))\n",
    "print(\"SlowHeaders Recall: {}\".format(tp/(tp+fn)))\n",
    "print(\"SlowHeaders Accuracy: {}\".format((tp+tn)/(tp+tn+fp+fn)))"
   ]
  },
  {
   "cell_type": "code",
   "execution_count": 26,
   "metadata": {},
   "outputs": [
    {
     "name": "stdout",
     "output_type": "stream",
     "text": [
      "127.0\n",
      "23685.0\n",
      "0.0\n",
      "4.0\n",
      "SlowLoris precision: 1.0\n",
      "SlowLoris Recall: 0.9694656488549618\n",
      "SlowLoris Accuracy: 0.9998320456835741\n"
     ]
    }
   ],
   "source": [
    "tp = [y_test[i] == 7 and y_predict[i] == 7 for i in range(len(y_test))]\n",
    "tp = sum(tp)*1.0\n",
    "fp = [y_test[i] == 0 and y_predict[i] == 7 for i in range(len(y_test))]\n",
    "fp = sum(fp)*1.0\n",
    "fn = [y_test[i] == 7 and y_predict[i] == 0 for i in range(len(y_test))]\n",
    "fn = sum(fn)*1.0\n",
    "tn = [y_test[i] == 0 and y_predict[i] == 0 for i in range(len(y_test))]\n",
    "tn = sum(tn)*1.0\n",
    "#SlowLoris\n",
    "print(tp)\n",
    "print(tn)\n",
    "print(fp)\n",
    "print(fn)\n",
    "print(\"SlowLoris precision: {}\".format(tp/(tp+fp)))\n",
    "print(\"SlowLoris Recall: {}\".format(tp/(tp+fn)))\n",
    "print(\"SlowLoris Accuracy: {}\".format((tp+tn)/(tp+tn+fp+fn)))"
   ]
  },
  {
   "cell_type": "code",
   "execution_count": 27,
   "metadata": {},
   "outputs": [
    {
     "name": "stdout",
     "output_type": "stream",
     "text": [
      "429.0\n",
      "23685.0\n",
      "270.0\n",
      "2.0\n",
      "SlowRead precision: 0.6137339055793991\n",
      "SlowRead Recall: 0.9953596287703016\n",
      "SlowRead Accuracy: 0.9888460592143032\n"
     ]
    }
   ],
   "source": [
    "tp = [y_test[i] == 8 and y_predict[i] == 8 for i in range(len(y_test))]\n",
    "tp = sum(tp)*1.0\n",
    "fp = [y_test[i] == 0 and y_predict[i] == 8 for i in range(len(y_test))]\n",
    "fp = sum(fp)*1.0\n",
    "fn = [y_test[i] == 8 and y_predict[i] == 0 for i in range(len(y_test))]\n",
    "fn = sum(fn)*1.0\n",
    "tn = [y_test[i] == 0 and y_predict[i] == 0 for i in range(len(y_test))]\n",
    "tn = sum(tn)*1.0\n",
    "#SlowRead\n",
    "print(tp)\n",
    "print(tn)\n",
    "print(fp)\n",
    "print(fn)\n",
    "print(\"SlowRead precision: {}\".format(tp/(tp+fp)))\n",
    "print(\"SlowRead Recall: {}\".format(tp/(tp+fn)))\n",
    "print(\"SlowRead Accuracy: {}\".format((tp+tn)/(tp+tn+fp+fn)))"
   ]
  },
  {
   "cell_type": "code",
   "execution_count": 30,
   "metadata": {},
   "outputs": [
    {
     "data": {
      "text/plain": [
       "(array([1.02584926e-06, 2.51418213e-01, 1.02584926e-06, 2.51418213e-01,\n",
       "        1.02584926e-06, 2.51418213e-01, 4.10341377e-06, 5.02836427e-01,\n",
       "        1.34460975e+04, 3.75312881e+03, 3.35206475e+00, 4.52804202e+02,\n",
       "        5.07392046e+04, 2.64458866e+04, 2.82445028e+01, 1.26781910e+03,\n",
       "        6.89377008e+01, 1.54150839e+03, 1.28815630e+03, 3.21902148e+00,\n",
       "        5.02185932e+00, 2.31074790e+03]),\n",
       " array([1.00000000e+000, 9.99990588e-001, 1.00000000e+000, 9.99990588e-001,\n",
       "        1.00000000e+000, 9.99990588e-001, 1.00000000e+000, 9.99863732e-001,\n",
       "        0.00000000e+000, 0.00000000e+000, 9.10362810e-001, 9.26988222e-093,\n",
       "        0.00000000e+000, 0.00000000e+000, 4.29922727e-004, 2.12112977e-268,\n",
       "        7.99488802e-012, 0.00000000e+000, 8.53299790e-273, 9.19870220e-001,\n",
       "        7.55237242e-001, 0.00000000e+000]))"
      ]
     },
     "execution_count": 30,
     "metadata": {},
     "output_type": "execute_result"
    }
   ],
   "source": [
    "chi2(X_train, y_train)"
   ]
  }
 ],
 "metadata": {
  "kernelspec": {
   "display_name": "Python 3",
   "language": "python",
   "name": "python3"
  },
  "language_info": {
   "codemirror_mode": {
    "name": "ipython",
    "version": 3
   },
   "file_extension": ".py",
   "mimetype": "text/x-python",
   "name": "python",
   "nbconvert_exporter": "python",
   "pygments_lexer": "ipython3",
   "version": "3.6.4"
  }
 },
 "nbformat": 4,
 "nbformat_minor": 2
}
